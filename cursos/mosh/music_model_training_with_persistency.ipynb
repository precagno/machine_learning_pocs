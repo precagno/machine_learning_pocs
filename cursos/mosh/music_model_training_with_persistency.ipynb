{
 "cells": [
  {
   "cell_type": "code",
   "execution_count": null,
   "id": "7be54317",
   "metadata": {},
   "outputs": [],
   "source": [
    "import pandas as pd\n",
    "from sklearn.tree import DecisionTreeClassifier\n",
    "import joblib"
   ]
  },
  {
   "cell_type": "code",
   "execution_count": null,
   "id": "de415456",
   "metadata": {},
   "outputs": [],
   "source": [
    "## En este bloque de código se entrena al modelo para generar el binario de dicho modelo\n",
    "\n",
    "# music_data = pd.read_csv('music.csv')\n",
    "\n",
    "# X = music_data.drop(columns=['genre']).values\n",
    "# y = music_data['genre']\n",
    "\n",
    "# model = DecisionTreeClassifier()\n",
    "# model.fit(X, y)\n",
    "# joblib.dump(model, 'music-recommender.joblib')\n"
   ]
  },
  {
   "cell_type": "code",
   "execution_count": null,
   "id": "246b3f9c",
   "metadata": {},
   "outputs": [],
   "source": [
    "model = joblib.load('music-recommender.joblib')"
   ]
  },
  {
   "cell_type": "code",
   "execution_count": null,
   "id": "a21e33ac",
   "metadata": {},
   "outputs": [],
   "source": [
    "predictions = model.predict([[21,1]])\n",
    "predictions"
   ]
  }
 ],
 "metadata": {
  "kernelspec": {
   "display_name": "Python 3 (ipykernel)",
   "language": "python",
   "name": "python3"
  },
  "language_info": {
   "codemirror_mode": {
    "name": "ipython",
    "version": 3
   },
   "file_extension": ".py",
   "mimetype": "text/x-python",
   "name": "python",
   "nbconvert_exporter": "python",
   "pygments_lexer": "ipython3",
   "version": "3.9.13"
  }
 },
 "nbformat": 4,
 "nbformat_minor": 5
}
